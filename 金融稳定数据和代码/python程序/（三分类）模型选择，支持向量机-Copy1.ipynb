{
 "cells": [
  {
   "cell_type": "markdown",
   "metadata": {},
   "source": [
    "# 导库，导数据"
   ]
  },
  {
   "cell_type": "code",
   "execution_count": 1,
   "metadata": {},
   "outputs": [],
   "source": [
    "import pandas as pd\n",
    "import numpy as np\n",
    "from sklearn.model_selection import train_test_split\n",
    "from sklearn.metrics import accuracy_score, recall_score,f1_score\n",
    "import sklearn.svm as svm"
   ]
  },
  {
   "cell_type": "code",
   "execution_count": 2,
   "metadata": {},
   "outputs": [
    {
     "data": {
      "text/html": [
       "<div>\n",
       "<style scoped>\n",
       "    .dataframe tbody tr th:only-of-type {\n",
       "        vertical-align: middle;\n",
       "    }\n",
       "\n",
       "    .dataframe tbody tr th {\n",
       "        vertical-align: top;\n",
       "    }\n",
       "\n",
       "    .dataframe thead th {\n",
       "        text-align: right;\n",
       "    }\n",
       "</style>\n",
       "<table border=\"1\" class=\"dataframe\">\n",
       "  <thead>\n",
       "    <tr style=\"text-align: right;\">\n",
       "      <th></th>\n",
       "      <th>date</th>\n",
       "      <th>TED</th>\n",
       "      <th>3M_shibor</th>\n",
       "      <th>7D_reporate</th>\n",
       "      <th>term_spread</th>\n",
       "      <th>credit_spread</th>\n",
       "      <th>SETBI_RealVolatility</th>\n",
       "      <th>INDI_RealVolatility</th>\n",
       "      <th>COMI_RealVolatility</th>\n",
       "      <th>INDI_CMAX</th>\n",
       "      <th>...</th>\n",
       "      <th>COMI_illiquidity</th>\n",
       "      <th>180FINI_RealVolatility</th>\n",
       "      <th>180FINI_CMAX</th>\n",
       "      <th>180FINI_illiquidity</th>\n",
       "      <th>REI_RealVolatility</th>\n",
       "      <th>REI_CMAX</th>\n",
       "      <th>REI_illiquidity</th>\n",
       "      <th>USDCNY</th>\n",
       "      <th>1Y_NDF</th>\n",
       "      <th>risk_level</th>\n",
       "    </tr>\n",
       "  </thead>\n",
       "  <tbody>\n",
       "    <tr>\n",
       "      <th>0</th>\n",
       "      <td>2006-10-08</td>\n",
       "      <td>1.235</td>\n",
       "      <td>0.000161</td>\n",
       "      <td>2.2443</td>\n",
       "      <td>-0.9661</td>\n",
       "      <td>1.1516</td>\n",
       "      <td>3.270000e-07</td>\n",
       "      <td>0.000261</td>\n",
       "      <td>0.000331</td>\n",
       "      <td>0.000000</td>\n",
       "      <td>...</td>\n",
       "      <td>0.000000</td>\n",
       "      <td>0.000346</td>\n",
       "      <td>0.000000</td>\n",
       "      <td>0.000000</td>\n",
       "      <td>0.000472</td>\n",
       "      <td>0.026101</td>\n",
       "      <td>0.000000</td>\n",
       "      <td>2.400000e-06</td>\n",
       "      <td>0.000008</td>\n",
       "      <td>1</td>\n",
       "    </tr>\n",
       "    <tr>\n",
       "      <th>1</th>\n",
       "      <td>2006-10-09</td>\n",
       "      <td>1.230</td>\n",
       "      <td>0.000161</td>\n",
       "      <td>2.2596</td>\n",
       "      <td>-0.9622</td>\n",
       "      <td>1.2426</td>\n",
       "      <td>2.460000e-07</td>\n",
       "      <td>0.000193</td>\n",
       "      <td>0.000250</td>\n",
       "      <td>0.000000</td>\n",
       "      <td>...</td>\n",
       "      <td>0.010650</td>\n",
       "      <td>0.000272</td>\n",
       "      <td>0.000000</td>\n",
       "      <td>0.007181</td>\n",
       "      <td>0.000358</td>\n",
       "      <td>0.035618</td>\n",
       "      <td>0.009699</td>\n",
       "      <td>1.320000e-06</td>\n",
       "      <td>0.000006</td>\n",
       "      <td>1</td>\n",
       "    </tr>\n",
       "    <tr>\n",
       "      <th>2</th>\n",
       "      <td>2006-10-10</td>\n",
       "      <td>1.220</td>\n",
       "      <td>0.000074</td>\n",
       "      <td>2.2491</td>\n",
       "      <td>-0.9496</td>\n",
       "      <td>1.2275</td>\n",
       "      <td>1.970000e-07</td>\n",
       "      <td>0.000189</td>\n",
       "      <td>0.000283</td>\n",
       "      <td>0.000000</td>\n",
       "      <td>...</td>\n",
       "      <td>0.001923</td>\n",
       "      <td>0.000791</td>\n",
       "      <td>0.008683</td>\n",
       "      <td>0.002109</td>\n",
       "      <td>0.000291</td>\n",
       "      <td>0.070620</td>\n",
       "      <td>0.028284</td>\n",
       "      <td>9.030000e-07</td>\n",
       "      <td>0.000005</td>\n",
       "      <td>1</td>\n",
       "    </tr>\n",
       "    <tr>\n",
       "      <th>3</th>\n",
       "      <td>2006-10-11</td>\n",
       "      <td>1.215</td>\n",
       "      <td>0.000028</td>\n",
       "      <td>2.2455</td>\n",
       "      <td>-0.9297</td>\n",
       "      <td>1.2624</td>\n",
       "      <td>1.490000e-07</td>\n",
       "      <td>0.000151</td>\n",
       "      <td>0.000219</td>\n",
       "      <td>0.000000</td>\n",
       "      <td>...</td>\n",
       "      <td>0.000372</td>\n",
       "      <td>0.000657</td>\n",
       "      <td>0.008975</td>\n",
       "      <td>0.000110</td>\n",
       "      <td>0.000525</td>\n",
       "      <td>0.067819</td>\n",
       "      <td>0.004678</td>\n",
       "      <td>7.680000e-07</td>\n",
       "      <td>0.000004</td>\n",
       "      <td>1</td>\n",
       "    </tr>\n",
       "    <tr>\n",
       "      <th>4</th>\n",
       "      <td>2006-10-12</td>\n",
       "      <td>1.210</td>\n",
       "      <td>0.000005</td>\n",
       "      <td>2.2468</td>\n",
       "      <td>-0.9136</td>\n",
       "      <td>1.3744</td>\n",
       "      <td>2.050000e-07</td>\n",
       "      <td>0.000120</td>\n",
       "      <td>0.000166</td>\n",
       "      <td>0.005577</td>\n",
       "      <td>...</td>\n",
       "      <td>0.005262</td>\n",
       "      <td>0.000530</td>\n",
       "      <td>0.018758</td>\n",
       "      <td>0.003669</td>\n",
       "      <td>0.000401</td>\n",
       "      <td>0.089877</td>\n",
       "      <td>0.031501</td>\n",
       "      <td>7.780000e-07</td>\n",
       "      <td>0.000003</td>\n",
       "      <td>1</td>\n",
       "    </tr>\n",
       "  </tbody>\n",
       "</table>\n",
       "<p>5 rows × 22 columns</p>\n",
       "</div>"
      ],
      "text/plain": [
       "        date    TED  3M_shibor  7D_reporate  term_spread  credit_spread  \\\n",
       "0 2006-10-08  1.235   0.000161       2.2443      -0.9661         1.1516   \n",
       "1 2006-10-09  1.230   0.000161       2.2596      -0.9622         1.2426   \n",
       "2 2006-10-10  1.220   0.000074       2.2491      -0.9496         1.2275   \n",
       "3 2006-10-11  1.215   0.000028       2.2455      -0.9297         1.2624   \n",
       "4 2006-10-12  1.210   0.000005       2.2468      -0.9136         1.3744   \n",
       "\n",
       "   SETBI_RealVolatility  INDI_RealVolatility  COMI_RealVolatility  INDI_CMAX  \\\n",
       "0          3.270000e-07             0.000261             0.000331   0.000000   \n",
       "1          2.460000e-07             0.000193             0.000250   0.000000   \n",
       "2          1.970000e-07             0.000189             0.000283   0.000000   \n",
       "3          1.490000e-07             0.000151             0.000219   0.000000   \n",
       "4          2.050000e-07             0.000120             0.000166   0.005577   \n",
       "\n",
       "   ...  COMI_illiquidity  180FINI_RealVolatility  180FINI_CMAX  \\\n",
       "0  ...          0.000000                0.000346      0.000000   \n",
       "1  ...          0.010650                0.000272      0.000000   \n",
       "2  ...          0.001923                0.000791      0.008683   \n",
       "3  ...          0.000372                0.000657      0.008975   \n",
       "4  ...          0.005262                0.000530      0.018758   \n",
       "\n",
       "   180FINI_illiquidity  REI_RealVolatility  REI_CMAX  REI_illiquidity  \\\n",
       "0             0.000000            0.000472  0.026101         0.000000   \n",
       "1             0.007181            0.000358  0.035618         0.009699   \n",
       "2             0.002109            0.000291  0.070620         0.028284   \n",
       "3             0.000110            0.000525  0.067819         0.004678   \n",
       "4             0.003669            0.000401  0.089877         0.031501   \n",
       "\n",
       "         USDCNY    1Y_NDF  risk_level  \n",
       "0  2.400000e-06  0.000008           1  \n",
       "1  1.320000e-06  0.000006           1  \n",
       "2  9.030000e-07  0.000005           1  \n",
       "3  7.680000e-07  0.000004           1  \n",
       "4  7.780000e-07  0.000003           1  \n",
       "\n",
       "[5 rows x 22 columns]"
      ]
     },
     "execution_count": 2,
     "metadata": {},
     "output_type": "execute_result"
    }
   ],
   "source": [
    "data = pd.read_csv(\"C:/Users/ganziqi/Desktop/论文资料/数据/ML data3.csv\")\n",
    "#转换日期格式\n",
    "data['date'] = pd.to_datetime(data['date'])\n",
    "data.head()"
   ]
  },
  {
   "cell_type": "code",
   "execution_count": 3,
   "metadata": {},
   "outputs": [],
   "source": [
    "# data['risk_level']=data['risk_level'].shift(30)\n",
    "# data = data[data['risk_level'].notna()]#删除某列中含有缺失值的行\n",
    "# #将特征矩阵和标签Y分开\n",
    "# X = data.iloc[:,1:-1].drop('SETBI_RealVolatility',1)\n",
    "X = data.iloc[:,1:-1]\n",
    "Y = data.iloc[:,-1]\n",
    "Xtrain, Xtest, ytrain, ytest = train_test_split(X,Y,test_size=0.3,random_state = 0)"
   ]
  },
  {
   "cell_type": "code",
   "execution_count": 4,
   "metadata": {},
   "outputs": [
    {
     "data": {
      "text/plain": [
       "1    1805\n",
       "0     480\n",
       "2     443\n",
       "Name: risk_level, dtype: int64"
      ]
     },
     "execution_count": 4,
     "metadata": {},
     "output_type": "execute_result"
    }
   ],
   "source": [
    "#是否有样本不平衡问题？\n",
    "ytrain.value_counts()"
   ]
  },
  {
   "cell_type": "code",
   "execution_count": 5,
   "metadata": {},
   "outputs": [
    {
     "data": {
      "text/plain": [
       "1    777\n",
       "2    218\n",
       "0    175\n",
       "Name: risk_level, dtype: int64"
      ]
     },
     "execution_count": 5,
     "metadata": {},
     "output_type": "execute_result"
    }
   ],
   "source": [
    "ytest.value_counts()"
   ]
  },
  {
   "cell_type": "code",
   "execution_count": 6,
   "metadata": {},
   "outputs": [],
   "source": [
    "# #将标签编码\n",
    "# from sklearn.preprocessing import LabelEncoder  #标签专用\n",
    "# encorder = LabelEncoder().fit(ytrain) #允许一维数据的输入"
   ]
  },
  {
   "cell_type": "code",
   "execution_count": 7,
   "metadata": {},
   "outputs": [],
   "source": [
    "# ytrain = pd.DataFrame(encorder.transform(ytrain))\n",
    "# ytrain.head()"
   ]
  },
  {
   "cell_type": "code",
   "execution_count": 8,
   "metadata": {},
   "outputs": [],
   "source": [
    "# ytest = pd.DataFrame(encorder.transform(ytest))"
   ]
  },
  {
   "cell_type": "code",
   "execution_count": 9,
   "metadata": {},
   "outputs": [],
   "source": [
    "# ytest.head()"
   ]
  },
  {
   "cell_type": "code",
   "execution_count": 10,
   "metadata": {},
   "outputs": [],
   "source": [
    "model = svm.SVC(kernel=\"linear\", decision_function_shape=\"ovo\",random_state = 0).fit(Xtrain,ytrain)\n",
    "ypred = model.predict(Xtest)"
   ]
  },
  {
   "cell_type": "code",
   "execution_count": 11,
   "metadata": {},
   "outputs": [
    {
     "name": "stdout",
     "output_type": "stream",
     "text": [
      "0.8449413489736071 0.8461538461538461 0.7373484624860772\n"
     ]
    }
   ],
   "source": [
    "acu_train = model.score(Xtrain, ytrain)\n",
    "acu_test = model.score(Xtest, ytest)\n",
    "recall = recall_score(ytest, ypred, average=\"macro\")\n",
    "print(acu_train,acu_test,recall)"
   ]
  },
  {
   "cell_type": "code",
   "execution_count": 12,
   "metadata": {},
   "outputs": [
    {
     "data": {
      "text/plain": [
       "SVC(C=2, gamma=10, random_state=0)"
      ]
     },
     "execution_count": 12,
     "metadata": {},
     "output_type": "execute_result"
    }
   ],
   "source": [
    "#模型构建\n",
    "clf = svm.SVC(C = 2,kernel = \"rbf\" ,gamma = 10, decision_function_shape = \"ovr\",random_state = 0)\n",
    "clf.fit(Xtrain,ytrain)"
   ]
  },
  {
   "cell_type": "code",
   "execution_count": 13,
   "metadata": {},
   "outputs": [
    {
     "name": "stdout",
     "output_type": "stream",
     "text": [
      "test: 0.923931623931624\n"
     ]
    }
   ],
   "source": [
    "#模型预测\n",
    "from sklearn.metrics import accuracy_score\n",
    "# precision_score,recall_score,f1_score\n",
    "ypred = clf.predict(Xtest)\n",
    "print(\"test:\",accuracy_score(ytest,ypred))"
   ]
  },
  {
   "cell_type": "code",
   "execution_count": 14,
   "metadata": {},
   "outputs": [
    {
     "data": {
      "text/plain": [
       "array([[143,  32,   0],\n",
       "       [  5, 756,  16],\n",
       "       [  0,  36, 182]], dtype=int64)"
      ]
     },
     "execution_count": 14,
     "metadata": {},
     "output_type": "execute_result"
    }
   ],
   "source": [
    "#混淆矩阵\n",
    "from sklearn.metrics import confusion_matrix\n",
    "cm = confusion_matrix(ytest,ypred)\n",
    "cm"
   ]
  },
  {
   "cell_type": "code",
   "execution_count": 15,
   "metadata": {},
   "outputs": [
    {
     "data": {
      "text/plain": [
       "<Figure size 640x480 with 2 Axes>"
      ]
     },
     "metadata": {},
     "output_type": "display_data"
    }
   ],
   "source": [
    "from sklearn.metrics import ConfusionMatrixDisplay\n",
    "from matplotlib import pyplot as plt\n",
    "# 使用sklearn工具包中的ConfusionMatrixDisplay可视化混淆矩阵，参考plot_confusion_matrix\n",
    "classes = ('high','medium','low')\n",
    "disp = ConfusionMatrixDisplay(confusion_matrix = confusion_matrix(ytest,ypred),display_labels = classes)\n",
    "disp.plot(\n",
    "    include_values = True,            # 混淆矩阵每个单元格上显示具体数值\n",
    "    cmap = plt.get_cmap(\"Blues\"),                 # 不清楚啥意思，没研究，使用的sklearn中的默认值\n",
    "    ax = None,                        # 同上\n",
    "    xticks_rotation = \"horizontal\",   # 同上\n",
    "    values_format = \"d\"               # 显示的数值格式\n",
    ")\n",
    "plt.show()"
   ]
  },
  {
   "cell_type": "code",
   "execution_count": 16,
   "metadata": {},
   "outputs": [
    {
     "name": "stdout",
     "output_type": "stream",
     "text": [
      "训练集macro:accuracy is 0.981305,precision is 0.987363,recall is 0.967062,f1 is 0.976792\n",
      "测试集macro:accuracy is 0.923932,precision is 0.934295,recall is 0.874993,f1 is 0.901620\n",
      "训练集micro:accuracy is 0.981305,precision is 0.981305,recall is 0.981305,f1 is 0.981305\n",
      "测试集micro:accuracy is 0.923932,precision is 0.923932,recall is 0.923932,f1 is 0.923932\n"
     ]
    }
   ],
   "source": [
    "from sklearn.metrics import precision_score, recall_score, f1_score, accuracy_score\n",
    "evaluates = ['accuracy','precision','recall','f1']\n",
    "y_train_pred = clf.predict(Xtrain)\n",
    "y_test_pred = clf.predict(Xtest)\n",
    "# accuracy\n",
    "train_accuracy =clf.score(Xtrain, ytrain)\n",
    "test_accuracy = clf.score(Xtest, ytest)\n",
    "# precision\n",
    "train_precision_macro = precision_score(ytrain, y_train_pred,average=\"macro\")\n",
    "test_precision_macro = precision_score(ytest, y_test_pred,average=\"macro\")\n",
    "train_precision_micro = precision_score(ytrain, y_train_pred,average=\"micro\")\n",
    "test_precision_micro = precision_score(ytest, y_test_pred,average=\"micro\")\n",
    "# recall\n",
    "train_recall_macro = recall_score(ytrain, y_train_pred,average=\"macro\")\n",
    "test_recall_macro = recall_score(ytest, y_test_pred,average=\"macro\")\n",
    "train_recall_micro = recall_score(ytrain, y_train_pred,average=\"micro\")\n",
    "test_recall_micro = recall_score(ytest, y_test_pred,average=\"micro\")\n",
    "# f1\n",
    "train_f1_macro = f1_score(ytrain, y_train_pred,average=\"macro\")\n",
    "test_f1_macro = f1_score(ytest, y_test_pred,average=\"macro\")\n",
    "train_f1_micro = f1_score(ytrain, y_train_pred,average=\"micro\")\n",
    "test_f1_micro = f1_score(ytest, y_test_pred,average=\"micro\")\n",
    "\n",
    "print(\"训练集macro:accuracy is %f,precision is %f,recall is %f,f1 is %f\"%(train_accuracy,train_precision_macro,train_recall_macro,train_f1_macro))\n",
    "print(\"测试集macro:accuracy is %f,precision is %f,recall is %f,f1 is %f\"%(test_accuracy,test_precision_macro,test_recall_macro,test_f1_macro))\n",
    "print(\"训练集micro:accuracy is %f,precision is %f,recall is %f,f1 is %f\"%(train_accuracy,train_precision_micro,train_recall_micro,train_f1_micro)) \n",
    "print(\"测试集micro:accuracy is %f,precision is %f,recall is %f,f1 is %f\"%(test_accuracy,test_precision_micro,test_recall_micro,test_f1_micro))"
   ]
  },
  {
   "cell_type": "markdown",
   "metadata": {},
   "source": [
    "# 建模与模型评估"
   ]
  },
  {
   "cell_type": "code",
   "execution_count": 17,
   "metadata": {},
   "outputs": [],
   "source": [
    "from time import time  #SVC运行缓慢，因此需要随时监控我们的模型的运行时间\n",
    "import datetime\n",
    "from sklearn.svm import SVC\n",
    "from sklearn.model_selection import cross_val_score\n",
    "from sklearn.metrics import precision_score, recall_score, f1_score, accuracy_score"
   ]
  },
  {
   "cell_type": "markdown",
   "metadata": {},
   "source": [
    "# kernel核函数"
   ]
  },
  {
   "cell_type": "code",
   "execution_count": 18,
   "metadata": {},
   "outputs": [
    {
     "name": "stdout",
     "output_type": "stream",
     "text": [
      "linear 's testing accuracy is 0.846154,precision is 0.860261, recall is 0.737348', f1 is 0.784297\n",
      "00:00:977439\n"
     ]
    },
    {
     "name": "stderr",
     "output_type": "stream",
     "text": [
      "C:\\ProgramData\\Anaconda3\\lib\\site-packages\\sklearn\\metrics\\_classification.py:1248: UndefinedMetricWarning: Precision is ill-defined and being set to 0.0 in labels with no predicted samples. Use `zero_division` parameter to control this behavior.\n",
      "  _warn_prf(average, modifier, msg_start, len(result))\n"
     ]
    },
    {
     "name": "stdout",
     "output_type": "stream",
     "text": [
      "poly 's testing accuracy is 0.765812,precision is 0.563298, recall is 0.522991', f1 is 0.522300\n",
      "00:02:027838\n",
      "rbf 's testing accuracy is 0.842735,precision is 0.902224, recall is 0.697720', f1 is 0.762629\n",
      "00:03:543969\n",
      "sigmoid 's testing accuracy is 0.665812,precision is 0.606354, recall is 0.497568', f1 is 0.509697\n",
      "00:04:334516\n"
     ]
    }
   ],
   "source": [
    "#Ytrain和Ytest表示为dataframe，是一个二维结构，应该转化成一维\n",
    "# ytrain = ytrain.iloc[:,0].ravel()\n",
    "# ytest = ytest.iloc[:,0].ravel()\n",
    "#建模选择自然是我们的支持向量机SVC，首先用核函数的学习曲线来选择核函数\n",
    "#我们希望同时观察，精确性，recall以及AUC分数\n",
    "times = time() #因为SVM是计算量很大的模型，所以我们需要时刻监控我们的模型运行时间\n",
    "for kernel in [\"linear\",\"poly\",\"rbf\",\"sigmoid\"]:\n",
    "    clf = SVC(kernel = kernel\n",
    "             ,gamma=\"auto\"\n",
    "             ,degree = 1\n",
    "             ,cache_size = 5000  #设定越大表示我们算法允许使用越多的内存来进行计算\n",
    "             ).fit(Xtrain, ytrain)\n",
    "    pred = clf.predict(Xtest)  #获取模型的预测结果\n",
    "    \n",
    "    accuracy = clf.score(Xtest,ytest)#接口score返回的是准确度accuracy\n",
    "    precision = precision_score(ytest,pred,average = \"macro\")\n",
    "    recall = recall_score(ytest, pred,average = \"macro\")\n",
    "    f1 = f1_score(ytest,pred,average = \"macro\")\n",
    "    print(\"%s 's testing accuracy is %f,precision is %f, recall is %f', f1 is %f\" %(kernel,accuracy,precision,recall,f1))\n",
    "    print(datetime.datetime.utcfromtimestamp(time()-times).strftime(\"%M:%S:%f\"))\n",
    "    \n",
    "    #从结果基本可以判定，核函数是rbf核函数"
   ]
  },
  {
   "cell_type": "markdown",
   "metadata": {},
   "source": [
    "# gamma"
   ]
  },
  {
   "cell_type": "code",
   "execution_count": 19,
   "metadata": {
    "scrolled": true
   },
   "outputs": [
    {
     "name": "stderr",
     "output_type": "stream",
     "text": [
      "C:\\ProgramData\\Anaconda3\\lib\\site-packages\\sklearn\\metrics\\_classification.py:1248: UndefinedMetricWarning: Precision is ill-defined and being set to 0.0 in labels with no predicted samples. Use `zero_division` parameter to control this behavior.\n",
      "  _warn_prf(average, modifier, msg_start, len(result))\n"
     ]
    },
    {
     "name": "stdout",
     "output_type": "stream",
     "text": [
      "under gamma 0.010000, testing accuracy is 0.752991,precision is 0.564970,recall is 0.496755',f1 is 0.499017\n",
      "00:02:008917\n",
      "under gamma 0.110909, testing accuracy is 0.860684,precision is 0.897088,recall is 0.740241',f1 is 0.796685\n",
      "00:01:816795\n",
      "under gamma 0.211818, testing accuracy is 0.864957,precision is 0.899393,recall is 0.751911',f1 is 0.806002\n",
      "00:01:684228\n",
      "under gamma 0.312727, testing accuracy is 0.870940,precision is 0.911443,recall is 0.764090',f1 is 0.817802\n",
      "00:01:817486\n",
      "under gamma 0.413636, testing accuracy is 0.872650,precision is 0.908643,recall is 0.770824',f1 is 0.821572\n",
      "00:01:529020\n",
      "under gamma 0.514545, testing accuracy is 0.876068,precision is 0.910757,recall is 0.776940',f1 is 0.826292\n",
      "00:02:350409\n",
      "under gamma 0.615455, testing accuracy is 0.882051,precision is 0.917857,recall is 0.784344',f1 is 0.833644\n",
      "00:01:559443\n",
      "under gamma 0.716364, testing accuracy is 0.884615,precision is 0.917994,recall is 0.788931',f1 is 0.836898\n",
      "00:01:789410\n",
      "under gamma 0.817273, testing accuracy is 0.887179,precision is 0.917964,recall is 0.796121',f1 is 0.842493\n",
      "00:01:578983\n",
      "under gamma 0.918182, testing accuracy is 0.889744,precision is 0.920381,recall is 0.800735',f1 is 0.847037\n",
      "00:01:831974\n",
      "under gamma 1.019091, testing accuracy is 0.897436,precision is 0.925499,recall is 0.815651',f1 is 0.859548\n",
      "00:02:370554\n",
      "under gamma 1.120000, testing accuracy is 0.898291,precision is 0.924961,recall is 0.817555',f1 is 0.860869\n",
      "00:01:598824\n",
      "under gamma 1.220909, testing accuracy is 0.902564,precision is 0.921754,recall is 0.831882',f1 is 0.869858\n",
      "00:01:563724\n",
      "under gamma 1.321818, testing accuracy is 0.903419,precision is 0.920928,recall is 0.835638',f1 is 0.872073\n",
      "00:01:839299\n",
      "under gamma 1.422727, testing accuracy is 0.905128,precision is 0.923788,recall is 0.837596',f1 is 0.874344\n",
      "00:02:124977\n",
      "under gamma 1.523636, testing accuracy is 0.903419,precision is 0.919114,recall is 0.836738',f1 is 0.872106\n",
      "00:02:639008\n",
      "under gamma 1.624545, testing accuracy is 0.902564,precision is 0.915072,recall is 0.837785',f1 is 0.871298\n",
      "00:02:599307\n",
      "under gamma 1.725455, testing accuracy is 0.905128,precision is 0.916594,recall is 0.842372',f1 is 0.874720\n",
      "00:03:281776\n",
      "under gamma 1.826364, testing accuracy is 0.905983,precision is 0.913809,recall is 0.847604',f1 is 0.876940\n",
      "00:02:364669\n",
      "under gamma 1.927273, testing accuracy is 0.906838,precision is 0.914334,recall is 0.849509',f1 is 0.878310\n",
      "00:01:853037\n",
      "under gamma 2.028182, testing accuracy is 0.907692,precision is 0.914423,recall is 0.851038',f1 is 0.879271\n",
      "00:01:703589\n",
      "under gamma 2.129091, testing accuracy is 0.906838,precision is 0.913919,recall is 0.849509',f1 is 0.878133\n",
      "00:01:774985\n",
      "under gamma 2.230000, testing accuracy is 0.908547,precision is 0.916103,recall is 0.851467',f1 is 0.880194\n",
      "00:01:800369\n",
      "under gamma 2.330909, testing accuracy is 0.908547,precision is 0.916103,recall is 0.851467',f1 is 0.880194\n",
      "00:01:929927\n",
      "under gamma 2.431818, testing accuracy is 0.906838,precision is 0.915070,recall is 0.848033',f1 is 0.877685\n",
      "00:02:095838\n",
      "under gamma 2.532727, testing accuracy is 0.906838,precision is 0.915070,recall is 0.848033',f1 is 0.877685\n",
      "00:02:674218\n",
      "under gamma 2.633636, testing accuracy is 0.905983,precision is 0.913382,recall is 0.847604',f1 is 0.876764\n",
      "00:02:468585\n",
      "under gamma 2.734545, testing accuracy is 0.905983,precision is 0.913382,recall is 0.847604',f1 is 0.876764\n",
      "00:02:507564\n",
      "under gamma 2.835455, testing accuracy is 0.907692,precision is 0.915983,recall is 0.849562',f1 is 0.878996\n",
      "00:01:806964\n",
      "under gamma 2.936364, testing accuracy is 0.911111,precision is 0.920810,recall is 0.854230',f1 is 0.883754\n",
      "00:01:856480\n",
      "under gamma 3.037273, testing accuracy is 0.911966,precision is 0.921304,recall is 0.855759',f1 is 0.884889\n",
      "00:01:717979\n",
      "under gamma 3.138182, testing accuracy is 0.911966,precision is 0.921304,recall is 0.855759',f1 is 0.884889\n",
      "00:02:011397\n",
      "under gamma 3.239091, testing accuracy is 0.912821,precision is 0.922262,recall is 0.857288',f1 is 0.886203\n",
      "00:02:468712\n",
      "under gamma 3.340000, testing accuracy is 0.911966,precision is 0.920617,recall is 0.856859',f1 is 0.885283\n",
      "00:02:795620\n",
      "under gamma 3.440909, testing accuracy is 0.911966,precision is 0.920617,recall is 0.856859',f1 is 0.885283\n",
      "00:02:138802\n",
      "under gamma 3.541818, testing accuracy is 0.912821,precision is 0.922771,recall is 0.857288',f1 is 0.886395\n",
      "00:02:296911\n",
      "under gamma 3.642727, testing accuracy is 0.913675,precision is 0.924954,recall is 0.857717',f1 is 0.887513\n",
      "00:02:275850\n",
      "under gamma 3.743636, testing accuracy is 0.914530,precision is 0.925463,recall is 0.859246',f1 is 0.888638\n",
      "00:02:049076\n",
      "under gamma 3.844545, testing accuracy is 0.913675,precision is 0.924954,recall is 0.857717',f1 is 0.887513\n",
      "00:02:151976\n",
      "under gamma 3.945455, testing accuracy is 0.914530,precision is 0.926599,recall is 0.858146',f1 is 0.888432\n",
      "00:02:302076\n",
      "under gamma 4.046364, testing accuracy is 0.913675,precision is 0.924954,recall is 0.857717',f1 is 0.887513\n",
      "00:02:209291\n",
      "under gamma 4.147273, testing accuracy is 0.912821,precision is 0.922771,recall is 0.857288',f1 is 0.886395\n",
      "00:01:900910\n",
      "under gamma 4.248182, testing accuracy is 0.912821,precision is 0.922771,recall is 0.857288',f1 is 0.886395\n",
      "00:02:031409\n",
      "under gamma 4.349091, testing accuracy is 0.911966,precision is 0.922286,recall is 0.855383',f1 is 0.885028\n",
      "00:02:567132\n",
      "under gamma 4.450000, testing accuracy is 0.910256,precision is 0.921291,recall is 0.851950',f1 is 0.882526\n",
      "00:02:524058\n",
      "under gamma 4.550909, testing accuracy is 0.910256,precision is 0.921291,recall is 0.851950',f1 is 0.882526\n",
      "00:02:249249\n",
      "under gamma 4.651818, testing accuracy is 0.911111,precision is 0.921799,recall is 0.853479',f1 is 0.883654\n",
      "00:02:495474\n",
      "under gamma 4.752727, testing accuracy is 0.911111,precision is 0.922945,recall is 0.852379',f1 is 0.883445\n",
      "00:02:551282\n",
      "under gamma 4.853636, testing accuracy is 0.911111,precision is 0.922928,recall is 0.852754',f1 is 0.883685\n",
      "00:02:250160\n",
      "under gamma 4.954545, testing accuracy is 0.911966,precision is 0.925126,recall is 0.853183',f1 is 0.884801\n",
      "00:02:040819\n",
      "under gamma 5.055455, testing accuracy is 0.911966,precision is 0.925126,recall is 0.853183',f1 is 0.884801\n",
      "00:02:135072\n",
      "under gamma 5.156364, testing accuracy is 0.911966,precision is 0.925126,recall is 0.853183',f1 is 0.884801\n",
      "00:02:215819\n",
      "under gamma 5.257273, testing accuracy is 0.911966,precision is 0.925126,recall is 0.853183',f1 is 0.884801\n",
      "00:02:771253\n",
      "under gamma 5.358182, testing accuracy is 0.911966,precision is 0.925126,recall is 0.853183',f1 is 0.884801\n",
      "00:03:099729\n",
      "under gamma 5.459091, testing accuracy is 0.912821,precision is 0.926147,recall is 0.855088',f1 is 0.886374\n",
      "00:03:344831\n",
      "under gamma 5.560000, testing accuracy is 0.913675,precision is 0.926656,recall is 0.856617',f1 is 0.887507\n",
      "00:02:196679\n",
      "under gamma 5.660909, testing accuracy is 0.913675,precision is 0.926656,recall is 0.856617',f1 is 0.887507\n",
      "00:02:324625\n",
      "under gamma 5.761818, testing accuracy is 0.914530,precision is 0.927112,recall is 0.858522',f1 is 0.888869\n",
      "00:04:246968\n",
      "under gamma 5.862727, testing accuracy is 0.914530,precision is 0.927112,recall is 0.858522',f1 is 0.888869\n",
      "00:02:915129\n",
      "under gamma 5.963636, testing accuracy is 0.914530,precision is 0.927112,recall is 0.858522',f1 is 0.888869\n",
      "00:03:298146\n",
      "under gamma 6.064545, testing accuracy is 0.913675,precision is 0.926656,recall is 0.856617',f1 is 0.887507\n",
      "00:02:285690\n",
      "under gamma 6.165455, testing accuracy is 0.912821,precision is 0.926147,recall is 0.855088',f1 is 0.886374\n",
      "00:02:196725\n",
      "under gamma 6.266364, testing accuracy is 0.912821,precision is 0.926147,recall is 0.855088',f1 is 0.886374\n",
      "00:02:107310\n",
      "under gamma 6.367273, testing accuracy is 0.913675,precision is 0.927808,recall is 0.855517',f1 is 0.887292\n",
      "00:02:270075\n",
      "under gamma 6.468182, testing accuracy is 0.912821,precision is 0.927305,recall is 0.853988',f1 is 0.886153\n",
      "00:02:595492\n",
      "under gamma 6.569091, testing accuracy is 0.911966,precision is 0.925636,recall is 0.853559',f1 is 0.885236\n",
      "00:02:811517\n",
      "under gamma 6.670000, testing accuracy is 0.911966,precision is 0.925636,recall is 0.853559',f1 is 0.885236\n",
      "00:02:354954\n",
      "under gamma 6.770909, testing accuracy is 0.911111,precision is 0.925125,recall is 0.852030',f1 is 0.884094\n",
      "00:02:485771\n"
     ]
    },
    {
     "name": "stdout",
     "output_type": "stream",
     "text": [
      "under gamma 6.871818, testing accuracy is 0.911111,precision is 0.925125,recall is 0.852030',f1 is 0.884094\n",
      "00:02:150534\n",
      "under gamma 6.972727, testing accuracy is 0.911111,precision is 0.925125,recall is 0.852030',f1 is 0.884094\n",
      "00:02:468816\n",
      "under gamma 7.073636, testing accuracy is 0.911111,precision is 0.925125,recall is 0.852030',f1 is 0.884094\n",
      "00:03:278902\n",
      "under gamma 7.174545, testing accuracy is 0.911111,precision is 0.925125,recall is 0.852030',f1 is 0.884094\n",
      "00:03:583002\n",
      "under gamma 7.275455, testing accuracy is 0.910256,precision is 0.924612,recall is 0.850501',f1 is 0.882948\n",
      "00:02:324124\n",
      "under gamma 7.376364, testing accuracy is 0.909402,precision is 0.924160,recall is 0.848596',f1 is 0.881580\n",
      "00:02:274408\n",
      "under gamma 7.477273, testing accuracy is 0.908547,precision is 0.921932,recall is 0.848167',f1 is 0.880458\n",
      "00:02:295865\n",
      "under gamma 7.578182, testing accuracy is 0.907692,precision is 0.921419,recall is 0.846638',f1 is 0.879307\n",
      "00:02:494884\n",
      "under gamma 7.679091, testing accuracy is 0.906838,precision is 0.919220,recall is 0.846209',f1 is 0.878190\n",
      "00:02:572211\n",
      "under gamma 7.780000, testing accuracy is 0.906838,precision is 0.919220,recall is 0.846209',f1 is 0.878190\n",
      "00:02:847250\n",
      "under gamma 7.880909, testing accuracy is 0.906838,precision is 0.919220,recall is 0.846209',f1 is 0.878190\n",
      "00:02:509949\n",
      "under gamma 7.981818, testing accuracy is 0.908547,precision is 0.923648,recall is 0.847067',f1 is 0.880429\n",
      "00:02:508399\n",
      "under gamma 8.082727, testing accuracy is 0.909402,precision is 0.924160,recall is 0.848596',f1 is 0.881580\n",
      "00:02:430200\n",
      "under gamma 8.183636, testing accuracy is 0.909402,precision is 0.924160,recall is 0.848596',f1 is 0.881580\n",
      "00:02:485219\n",
      "under gamma 8.284545, testing accuracy is 0.908547,precision is 0.923648,recall is 0.847067',f1 is 0.880429\n",
      "00:02:644945\n",
      "under gamma 8.385455, testing accuracy is 0.909402,precision is 0.925343,recall is 0.847496',f1 is 0.881344\n",
      "00:03:315606\n",
      "under gamma 8.486364, testing accuracy is 0.908547,precision is 0.924891,recall is 0.845591',f1 is 0.879970\n",
      "00:02:543945\n",
      "under gamma 8.587273, testing accuracy is 0.908547,precision is 0.924891,recall is 0.845591',f1 is 0.879970\n",
      "00:03:726285\n",
      "under gamma 8.688182, testing accuracy is 0.910256,precision is 0.927099,recall is 0.847549',f1 is 0.882040\n",
      "00:02:627000\n",
      "under gamma 8.789091, testing accuracy is 0.910256,precision is 0.927099,recall is 0.847549',f1 is 0.882040\n",
      "00:02:483018\n",
      "under gamma 8.890000, testing accuracy is 0.909402,precision is 0.926605,recall is 0.846020',f1 is 0.880888\n",
      "00:03:041969\n",
      "under gamma 8.990909, testing accuracy is 0.909402,precision is 0.926605,recall is 0.846020',f1 is 0.880888\n",
      "00:02:807239\n",
      "under gamma 9.091818, testing accuracy is 0.909402,precision is 0.927851,recall is 0.844920',f1 is 0.880653\n",
      "00:02:439244\n",
      "under gamma 9.192727, testing accuracy is 0.908547,precision is 0.925514,recall is 0.843391',f1 is 0.878782\n",
      "00:02:440984\n",
      "under gamma 9.293636, testing accuracy is 0.908547,precision is 0.927364,recall is 0.843391',f1 is 0.879491\n",
      "00:02:523203\n",
      "under gamma 9.394545, testing accuracy is 0.907692,precision is 0.925027,recall is 0.841862',f1 is 0.877615\n",
      "00:02:766971\n",
      "under gamma 9.495455, testing accuracy is 0.905983,precision is 0.924074,recall is 0.838428',f1 is 0.875064\n",
      "00:03:356564\n",
      "under gamma 9.596364, testing accuracy is 0.907692,precision is 0.928624,recall is 0.839286',f1 is 0.877307\n",
      "00:02:899718\n",
      "under gamma 9.697273, testing accuracy is 0.906838,precision is 0.926334,recall is 0.838857',f1 is 0.876183\n",
      "00:02:477101\n",
      "under gamma 9.798182, testing accuracy is 0.906838,precision is 0.926334,recall is 0.838857',f1 is 0.876183\n",
      "00:02:680102\n",
      "under gamma 9.899091, testing accuracy is 0.905983,precision is 0.925846,recall is 0.837328',f1 is 0.875007\n",
      "00:02:698977\n",
      "under gamma 10.000000, testing accuracy is 0.905983,precision is 0.925846,recall is 0.837328',f1 is 0.875007\n",
      "00:02:964797\n",
      "0.9145299145299145 3.743636363636363\n"
     ]
    },
    {
     "data": {
      "image/png": "[encoded data removed]",
      "text/plain": [
       "<Figure size 1440x360 with 1 Axes>"
      ]
     },
     "metadata": {
      "needs_background": "light"
     },
     "output_type": "display_data"
    }
   ],
   "source": [
    "import matplotlib.pyplot as plt\n",
    "gamma_range = np.linspace(0.01,10,100)\n",
    "precisionall = []\n",
    "recallall = []\n",
    "f1all = []\n",
    "accuracyall = []\n",
    "for gamma in gamma_range:\n",
    "    times = time()\n",
    "    clf = SVC(kernel = \"rbf\",gamma=gamma,cache_size = 5000).fit(Xtrain, ytrain)\n",
    "    pred = clf.predict(Xtest)\n",
    "    accuracy = clf.score(Xtest,ytest)\n",
    "    precision = precision_score(ytest, pred, average = \"macro\")\n",
    "    recall = recall_score(ytest, pred, average = \"macro\")\n",
    "    f1 = f1_score(ytest,pred, average = \"macro\")\n",
    "    precisionall.append(precision)\n",
    "    recallall.append(recall)\n",
    "    f1all.append(f1)\n",
    "    accuracyall.append(accuracy)\n",
    "    print(\"under gamma %f, testing accuracy is %f,precision is %f,recall is %f',f1 is %f\" %(gamma,accuracy,precision,recall,f1))\n",
    "    print(datetime.datetime.utcfromtimestamp(time()-times).strftime(\"%M:%S:%f\"))\n",
    "    \n",
    "print(max(accuracyall),gamma_range[accuracyall.index(max(accuracyall))])\n",
    "# plt.figure()\n",
    "plt.figure(figsize=[20,5])\n",
    "plt.plot(gamma_range,precisionall,c=\"blue\",label=\"precision\")\n",
    "plt.plot(gamma_range,recallall,c=\"red\",label=\"recall\")\n",
    "plt.plot(gamma_range,f1all,c=\"black\",label=\"f1\")\n",
    "plt.plot(gamma_range,accuracyall,c=\"orange\",label=\"accuracy\")\n",
    "plt.legend()\n",
    "plt.show()\n",
    "# acc = 0.9145299145299145, gamma = 3.743636363636363, precision is 0.925463,recall is 0.859246',f1 is 0.888638"
   ]
  },
  {
   "cell_type": "markdown",
   "metadata": {},
   "source": [
    "# C值"
   ]
  },
  {
   "cell_type": "code",
   "execution_count": 20,
   "metadata": {
    "scrolled": true
   },
   "outputs": [
    {
     "name": "stderr",
     "output_type": "stream",
     "text": [
      "C:\\ProgramData\\Anaconda3\\lib\\site-packages\\sklearn\\metrics\\_classification.py:1248: UndefinedMetricWarning: Precision is ill-defined and being set to 0.0 in labels with no predicted samples. Use `zero_division` parameter to control this behavior.\n",
      "  _warn_prf(average, modifier, msg_start, len(result))\n"
     ]
    },
    {
     "name": "stdout",
     "output_type": "stream",
     "text": [
      "under C 0.010000, testing accuracy is 0.664103,precision is 0.221368,recall is 0.333333', f1 is 0.266050\n",
      "00:01:856932\n",
      "under C 1.044138, testing accuracy is 0.916239,precision is 0.926479,recall is 0.862304', f1 is 0.890874\n",
      "00:02:206861\n",
      "under C 2.078276, testing accuracy is 0.925641,precision is 0.925166,recall is 0.886878', f1 is 0.904693\n",
      "00:02:295273\n",
      "under C 3.112414, testing accuracy is 0.933333,precision is 0.932858,recall is 0.899567', f1 is 0.915140\n",
      "00:02:234744\n",
      "under C 4.146552, testing accuracy is 0.944444,precision is 0.944381,recall is 0.916923', f1 is 0.929920\n",
      "00:02:204404\n",
      "under C 5.180690, testing accuracy is 0.944444,precision is 0.940448,recall is 0.920599', f1 is 0.930094\n",
      "00:02:359484\n",
      "under C 6.214828, testing accuracy is 0.943590,precision is 0.938403,recall is 0.918694', f1 is 0.928122\n",
      "00:02:740913\n",
      "under C 7.248966, testing accuracy is 0.941880,precision is 0.936448,recall is 0.916360', f1 is 0.925917\n",
      "00:03:472274\n",
      "under C 8.283103, testing accuracy is 0.944444,precision is 0.939861,recall is 0.918747', f1 is 0.928805\n",
      "00:03:172309\n",
      "under C 9.317241, testing accuracy is 0.945299,precision is 0.941324,recall is 0.919176', f1 is 0.929735\n",
      "00:02:158766\n",
      "under C 10.351379, testing accuracy is 0.945299,precision is 0.941324,recall is 0.919176', f1 is 0.929735\n",
      "00:02:099843\n",
      "under C 11.385517, testing accuracy is 0.946154,precision is 0.940405,recall is 0.922181', f1 is 0.930934\n",
      "00:02:426167\n",
      "under C 12.419655, testing accuracy is 0.944444,precision is 0.938424,recall is 0.919847', f1 is 0.928723\n",
      "00:02:575544\n",
      "under C 13.453793, testing accuracy is 0.945299,precision is 0.938950,recall is 0.921752', f1 is 0.930003\n",
      "00:02:512778\n",
      "under C 14.487931, testing accuracy is 0.947009,precision is 0.940915,recall is 0.923710', f1 is 0.931965\n",
      "00:02:863027\n",
      "under C 15.522069, testing accuracy is 0.945299,precision is 0.937549,recall is 0.922852', f1 is 0.929922\n",
      "00:02:375236\n",
      "under C 16.556207, testing accuracy is 0.945299,precision is 0.937549,recall is 0.922852', f1 is 0.929922\n",
      "00:02:396254\n",
      "under C 17.590345, testing accuracy is 0.945299,precision is 0.936651,recall is 0.924328', f1 is 0.930267\n",
      "00:02:552099\n",
      "under C 18.624483, testing accuracy is 0.943590,precision is 0.935590,recall is 0.920894', f1 is 0.927963\n",
      "00:02:910160\n",
      "under C 19.658621, testing accuracy is 0.943590,precision is 0.935590,recall is 0.920894', f1 is 0.927963\n",
      "00:05:054367\n",
      "under C 20.692759, testing accuracy is 0.944444,precision is 0.937507,recall is 0.921323', f1 is 0.929075\n",
      "00:04:615170\n",
      "under C 21.726897, testing accuracy is 0.945299,precision is 0.938950,recall is 0.921752', f1 is 0.930003\n",
      "00:03:326541\n",
      "under C 22.761034, testing accuracy is 0.945299,precision is 0.937455,recall is 0.921752', f1 is 0.929317\n",
      "00:03:104370\n",
      "under C 23.795172, testing accuracy is 0.947009,precision is 0.939982,recall is 0.924810', f1 is 0.932061\n",
      "00:05:532694\n",
      "under C 24.829310, testing accuracy is 0.948718,precision is 0.941036,recall is 0.928620', f1 is 0.934605\n",
      "00:04:454094\n",
      "under C 25.863448, testing accuracy is 0.948718,precision is 0.941036,recall is 0.928620', f1 is 0.934605\n",
      "00:03:010277\n",
      "under C 26.897586, testing accuracy is 0.949573,precision is 0.942953,recall is 0.929049', f1 is 0.935723\n",
      "00:02:891912\n",
      "under C 27.931724, testing accuracy is 0.949573,precision is 0.942953,recall is 0.929049', f1 is 0.935723\n",
      "00:02:993674\n",
      "under C 28.965862, testing accuracy is 0.949573,precision is 0.942953,recall is 0.929049', f1 is 0.935723\n",
      "00:04:459874\n",
      "under C 30.000000, testing accuracy is 0.949573,precision is 0.942953,recall is 0.929049', f1 is 0.935723\n",
      "00:04:000751\n",
      "0.9495726495726495 26.897586206896552\n"
     ]
    },
    {
     "data": {
      "image/png": "[encoded data removed]",
      "text/plain": [
       "<Figure size 432x288 with 1 Axes>"
      ]
     },
     "metadata": {
      "needs_background": "light"
     },
     "output_type": "display_data"
    }
   ],
   "source": [
    "import matplotlib.pyplot as plt\n",
    "C_range = np.linspace(0.01,30,30)\n",
    "precisionall = []\n",
    "recallall = []\n",
    "f1all = []\n",
    "accuracyall = []\n",
    "for C in C_range:\n",
    "    times = time()\n",
    "    clf = SVC(kernel = \"rbf\",gamma=3.743636363636363,C=C,cache_size = 5000).fit(Xtrain, ytrain)\n",
    "    pred = clf.predict(Xtest)\n",
    "    accuracy = clf.score(Xtest,ytest)\n",
    "    precision = precision_score(ytest,pred,average = \"macro\")\n",
    "    recall = recall_score(ytest, pred,average = \"macro\")\n",
    "    f1 = f1_score(ytest,pred,average = \"macro\")\n",
    "    accuracyall.append(accuracy)\n",
    "    recallall.append(recall)\n",
    "    precisionall.append(precision)\n",
    "    f1all.append(f1)\n",
    "    print(\"under C %f, testing accuracy is %f,precision is %f,recall is %f', f1 is %f\" %(C,accuracy,precision,recall,f1))\n",
    "    print(datetime.datetime.utcfromtimestamp(time()-times).strftime(\"%M:%S:%f\"))#计算时间\n",
    "    \n",
    "print(max(accuracyall),C_range[accuracyall.index(max(accuracyall))])\n",
    "plt.figure()\n",
    "plt.plot(C_range,precisionall,c=\"blue\",label=\"precision\")\n",
    "plt.plot(C_range,recallall,c=\"red\",label=\"recall\")\n",
    "plt.plot(C_range,f1all,c=\"black\",label=\"f1\")\n",
    "plt.plot(C_range,accuracyall,c=\"orange\",label=\"accuracy\")\n",
    "plt.legend()\n",
    "plt.show()\n",
    "#  C = 26.897586206896552"
   ]
  },
  {
   "cell_type": "markdown",
   "metadata": {},
   "source": [
    "# decision_function_shape = ovo ovr"
   ]
  },
  {
   "cell_type": "code",
   "execution_count": 32,
   "metadata": {},
   "outputs": [
    {
     "name": "stdout",
     "output_type": "stream",
     "text": [
      "ovo 's testing accuracy is 0.914530,precision is 0.925463, recall is 0.859246', f1 is 0.888638\n",
      "00:02:670980\n",
      "ovr 's testing accuracy is 0.914530,precision is 0.925463, recall is 0.859246', f1 is 0.888638\n",
      "00:04:616862\n"
     ]
    }
   ],
   "source": [
    "times = time() #因为SVM是计算量很大的模型，所以我们需要时刻监控我们的模型运行时间\n",
    "for decision_function_shape in [\"ovo\",\"ovr\"]:\n",
    "    clf = SVC(kernel = \"rbf\"\n",
    "             ,gamma=3.743636363636363\n",
    "#              ,C=26.897586206896552\n",
    "             ,cache_size = 5000  #设定越大表示我们算法允许使用越多的内存来进行计算\n",
    "             ,decision_function_shape = decision_function_shape\n",
    "             ).fit(Xtrain, ytrain)\n",
    "    pred = clf.predict(Xtest)  #获取模型的预测结果\n",
    "    \n",
    "    accuracy = clf.score(Xtest,ytest)#接口score返回的是准确度accuracy\n",
    "    precision = precision_score(ytest,pred,average = \"macro\")\n",
    "    recall = recall_score(ytest, pred,average = \"macro\")\n",
    "    f1 = f1_score(ytest,pred,average = \"macro\")\n",
    "    print(\"%s 's testing accuracy is %f,precision is %f, recall is %f', f1 is %f\" %(decision_function_shape,accuracy,precision,recall,f1))\n",
    "    print(datetime.datetime.utcfromtimestamp(time()-times).strftime(\"%M:%S:%f\"))\n",
    "    "
   ]
  },
  {
   "cell_type": "markdown",
   "metadata": {},
   "source": [
    "# 汇总参数"
   ]
  },
  {
   "cell_type": "code",
   "execution_count": 18,
   "metadata": {},
   "outputs": [
    {
     "name": "stdout",
     "output_type": "stream",
     "text": [
      "testing accuracy 0.914530,presicion is 0.925463,recall is 0.859246,f1 is 0.888638\n",
      "00:01:457701\n"
     ]
    }
   ],
   "source": [
    "from sklearn.metrics import precision_score,recall_score,f1_score,roc_auc_score\n",
    "times = time()\n",
    "clf = SVC(kernel = \"rbf\",gamma=3.743636363636363\n",
    "#           ,C=26.897586206896552\n",
    "          ,cache_size = 5000,decision_function_shape=\"ovr\"\n",
    "         ).fit(Xtrain, ytrain)\n",
    "pred = clf.predict(Xtest)\n",
    "accuracy = clf.score(Xtest,ytest)\n",
    "precision = precision_score(ytest,pred,average = \"macro\")\n",
    "recall = recall_score(ytest,pred,average = \"macro\")\n",
    "f1 = f1_score(ytest,pred,average = \"macro\")\n",
    "print(\"testing accuracy %f,presicion is %f,recall is %f,f1 is %f\" % (accuracy,precision,recall,f1))\n",
    "print(datetime.datetime.utcfromtimestamp(time()-times).strftime(\"%M:%S:%f\"))"
   ]
  },
  {
   "cell_type": "code",
   "execution_count": 19,
   "metadata": {},
   "outputs": [
    {
     "data": {
      "text/plain": [
       "0.8215462332528003"
      ]
     },
     "execution_count": 19,
     "metadata": {},
     "output_type": "execute_result"
    }
   ],
   "source": [
    "#kappa系数是用在统计学中评估一致性的一种方法，取值范围是[-1,1]，实际应用中，一般是[0,1]\n",
    "#与ROC曲线中一般不会出现下凸形曲线的原理类似。这个系数的值越高，则代表模型实现的分类准确度越高。\n",
    "from sklearn.metrics import cohen_kappa_score\n",
    "kappa = cohen_kappa_score(ytest,pred)\n",
    "kappa"
   ]
  },
  {
   "cell_type": "code",
   "execution_count": 20,
   "metadata": {},
   "outputs": [
    {
     "data": {
      "text/plain": [
       "0.08547008547008547"
      ]
     },
     "execution_count": 20,
     "metadata": {},
     "output_type": "execute_result"
    }
   ],
   "source": [
    "#海明距离也适用于多分类的问题，简单来说就是衡量预测标签与真实标签之间的距离，取值在0~1之间。\n",
    "#距离为0说明预测结果与真实结果完全相同，距离为1就说明模型与我们想要的结果完全就是背道而驰。\n",
    "from sklearn.metrics import hamming_loss\n",
    "ham_distance = hamming_loss(ytest,pred)\n",
    "ham_distance"
   ]
  },
  {
   "cell_type": "markdown",
   "metadata": {},
   "source": [
    "# 混淆矩阵"
   ]
  },
  {
   "cell_type": "code",
   "execution_count": 21,
   "metadata": {},
   "outputs": [
    {
     "data": {
      "text/plain": [
       "1    777\n",
       "2    218\n",
       "0    175\n",
       "Name: risk_level, dtype: int64"
      ]
     },
     "execution_count": 21,
     "metadata": {},
     "output_type": "execute_result"
    }
   ],
   "source": [
    "# 查看高风险样本占比\n",
    "valuec = pd.Series(ytest).value_counts()\n",
    "valuec"
   ]
  },
  {
   "cell_type": "code",
   "execution_count": 22,
   "metadata": {},
   "outputs": [
    {
     "data": {
      "text/plain": [
       "0.18632478632478633"
      ]
     },
     "execution_count": 22,
     "metadata": {},
     "output_type": "execute_result"
    }
   ],
   "source": [
    "valuec[2]/valuec.sum()"
   ]
  },
  {
   "cell_type": "code",
   "execution_count": 23,
   "metadata": {},
   "outputs": [],
   "source": [
    "clf = SVC(kernel = \"rbf\"\n",
    "         ,gamma=3.743636363636363\n",
    "#          ,C=26.897586206896552\n",
    "         ,cache_size = 5000\n",
    "         ).fit(Xtrain, ytrain)"
   ]
  },
  {
   "cell_type": "code",
   "execution_count": 24,
   "metadata": {},
   "outputs": [
    {
     "name": "stdout",
     "output_type": "stream",
     "text": [
      "[1 0 0 ... 1 1 1]\n"
     ]
    },
    {
     "data": {
      "text/plain": [
       "array([[176,  42,   0],\n",
       "       [ 16, 754,   7],\n",
       "       [  0,  35, 140]], dtype=int64)"
      ]
     },
     "execution_count": 24,
     "metadata": {},
     "output_type": "execute_result"
    }
   ],
   "source": [
    "from sklearn.metrics import confusion_matrix\n",
    "ypred=clf.predict(Xtest)\n",
    "print(ypred)\n",
    "# 混淆矩阵，对角线为正确，其他为误分类\n",
    "confusion_matrix(ytest,ypred,labels=(2,1,0))"
   ]
  },
  {
   "cell_type": "code",
   "execution_count": 25,
   "metadata": {},
   "outputs": [
    {
     "data": {
      "image/png": "[encoded data removed]",
      "text/plain": [
       "<Figure size 432x288 with 2 Axes>"
      ]
     },
     "metadata": {
      "needs_background": "light"
     },
     "output_type": "display_data"
    }
   ],
   "source": [
    "from sklearn.metrics import ConfusionMatrixDisplay\n",
    "from matplotlib import pyplot as plt\n",
    "# 使用sklearn工具包中的ConfusionMatrixDisplay可视化混淆矩阵，参考plot_confusion_matrix\n",
    "classes = ('high','medium','low')\n",
    "disp = ConfusionMatrixDisplay(confusion_matrix = confusion_matrix(ytest,ypred,labels=(2,1,0)),display_labels = classes)\n",
    "disp.plot(\n",
    "    include_values = True,            # 混淆矩阵每个单元格上显示具体数值\n",
    "    cmap = plt.get_cmap(\"Greys\"),                 # 不清楚啥意思，没研究，使用的sklearn中的默认值\n",
    "    ax = None,                        # 同上\n",
    "    xticks_rotation = \"horizontal\",   # 同上\n",
    "    values_format = \"d\"# 显示的数值格式\n",
    ")\n",
    "plt.show()"
   ]
  },
  {
   "cell_type": "code",
   "execution_count": 26,
   "metadata": {},
   "outputs": [
    {
     "name": "stdout",
     "output_type": "stream",
     "text": [
      "训练集macro:accuracy is 0.938783,precision is 0.959835,recall is 0.888982,f1 is 0.920320\n",
      "测试集macro:accuracy is 0.914530,precision is 0.925463,recall is 0.859246,f1 is 0.888638\n",
      "训练集micro:accuracy is 0.938783,precision is 0.938783,recall is 0.938783,f1 is 0.938783\n",
      "测试集micro:accuracy is 0.914530,precision is 0.914530,recall is 0.914530,f1 is 0.914530\n"
     ]
    }
   ],
   "source": [
    "from sklearn.metrics import precision_score, recall_score, f1_score, accuracy_score\n",
    "evaluates = ['accuracy','precision','recall','f1']\n",
    "y_train_pred = clf.predict(Xtrain)\n",
    "y_test_pred = clf.predict(Xtest)\n",
    "# accuracy\n",
    "train_accuracy =clf.score(Xtrain, ytrain)\n",
    "test_accuracy = clf.score(Xtest, ytest)\n",
    "# precision\n",
    "train_precision_macro = precision_score(ytrain, y_train_pred,average=\"macro\")\n",
    "test_precision_macro = precision_score(ytest, y_test_pred,average=\"macro\")\n",
    "train_precision_micro = precision_score(ytrain, y_train_pred,average=\"micro\")\n",
    "test_precision_micro = precision_score(ytest, y_test_pred,average=\"micro\")\n",
    "# recall\n",
    "train_recall_macro = recall_score(ytrain, y_train_pred,average=\"macro\")\n",
    "test_recall_macro = recall_score(ytest, y_test_pred,average=\"macro\")\n",
    "train_recall_micro = recall_score(ytrain, y_train_pred,average=\"micro\")\n",
    "test_recall_micro = recall_score(ytest, y_test_pred,average=\"micro\")\n",
    "# f1\n",
    "train_f1_macro = f1_score(ytrain, y_train_pred,average=\"macro\")\n",
    "test_f1_macro = f1_score(ytest, y_test_pred,average=\"macro\")\n",
    "train_f1_micro = f1_score(ytrain, y_train_pred,average=\"micro\")\n",
    "test_f1_micro = f1_score(ytest, y_test_pred,average=\"micro\")\n",
    "\n",
    "print(\"训练集macro:accuracy is %f,precision is %f,recall is %f,f1 is %f\"%(train_accuracy,train_precision_macro,train_recall_macro,train_f1_macro))\n",
    "print(\"测试集macro:accuracy is %f,precision is %f,recall is %f,f1 is %f\"%(test_accuracy,test_precision_macro,test_recall_macro,test_f1_macro))\n",
    "print(\"训练集micro:accuracy is %f,precision is %f,recall is %f,f1 is %f\"%(train_accuracy,train_precision_micro,train_recall_micro,train_f1_micro)) \n",
    "print(\"测试集micro:accuracy is %f,precision is %f,recall is %f,f1 is %f\"%(test_accuracy,test_precision_micro,test_recall_micro,test_f1_micro))"
   ]
  },
  {
   "cell_type": "code",
   "execution_count": 27,
   "metadata": {},
   "outputs": [],
   "source": [
    "feature_names = ['TED利差','三个月shibor的实际波动率','银行间市场7日回购利率','期限利差','信用利差','中债综合指数实际波动率','上证工业指数实际波动率','上证商业指数实际波动率','上证工业指数CMAX','上证商业指数CMAX','上证工业指数股票非流动性','上证商业指数股票非流动性','180金融指数实际波动率','180金融指数CMAX','180金融指数股票非流动性','地产指数的实际波动率','地产指数CMAX','地产指数股票非流动性','美元兑人民币汇率波动率','1年期离岸NDF波动率']"
   ]
  },
  {
   "cell_type": "code",
   "execution_count": 28,
   "metadata": {},
   "outputs": [],
   "source": [
    "cols = ['TED', '3M_shibor', '7D_reporate', 'term_spread', 'credit_spread','SETBI_RealVolatility','INDI_RealVolatility', 'COMI_RealVolatility', 'INDI_CMAX', 'COMI_CMAX','INDI_illiquidity','COMI_illiquidity','180FINI_RealVolatility','180FINI_CMAX','180FINI_illiquidity','REI_RealVolatility','REI_CMAX','REI_illiquidity','USDCNY','1Y_NDF']"
   ]
  },
  {
   "cell_type": "code",
   "execution_count": 31,
   "metadata": {
    "scrolled": true
   },
   "outputs": [
    {
     "data": {
      "image/png": "[encoded data removed]",
      "text/plain": [
       "<Figure size 1080x684 with 2 Axes>"
      ]
     },
     "metadata": {
      "needs_background": "light"
     },
     "output_type": "display_data"
    }
   ],
   "source": [
    "from matplotlib import pyplot as plt\n",
    "from pdpbox import pdp, get_dataset, info_plots\n",
    "# Create the data that we will plot\n",
    "pdp_1 = pdp.pdp_isolate(model=clf, dataset=Xtest, model_features=cols, feature='INDI_CMAX')\n",
    "# plot it\n",
    "pdp.pdp_plot(pdp_1, 'INDI_CMAX')\n",
    "plt.show()"
   ]
  },
  {
   "cell_type": "code",
   "execution_count": 34,
   "metadata": {},
   "outputs": [
    {
     "data": {
      "image/png": "[encoded data removed]",
      "text/plain": [
       "<Figure size 720x576 with 4 Axes>"
      ]
     },
     "metadata": {
      "needs_background": "light"
     },
     "output_type": "display_data"
    }
   ],
   "source": [
    "import numpy as np\n",
    "import matplotlib.pyplot as plt\n",
    "import matplotlib.gridspec as gridspec\n",
    "import itertools\n",
    "from sklearn.linear_model import LogisticRegression\n",
    "from sklearn.svm import SVC\n",
    "from sklearn.ensemble import RandomForestClassifier\n",
    "from mlxtend.classifier import EnsembleVoteClassifier\n",
    "from mlxtend.data import iris_data\n",
    "from mlxtend.plotting import plot_decision_regions\n",
    "# Initializing Classifiers\n",
    "clf1 = LogisticRegression(random_state=0)\n",
    "clf2 = RandomForestClassifier(random_state=0)\n",
    "clf3 = SVC(random_state=0, probability=True)\n",
    "eclf = EnsembleVoteClassifier(clfs=[clf1, clf2, clf3], weights=[2, 1, 1], voting='soft')\n",
    "# Loading some example data\n",
    "X, y = iris_data()\n",
    "X = X[:,[0, 2]]\n",
    "# Plotting Decision Regions\n",
    "gs = gridspec.GridSpec(2, 2)\n",
    "fig = plt.figure(figsize=(10, 8))\n",
    "for clf, lab, grd in zip([clf1, clf2, clf3, eclf],['Logistic Regression', 'Random Forest','RBF kernel SVM', 'Ensemble'],itertools.product([0, 1], repeat=2)):\n",
    "    clf.fit(X, y)\n",
    "    ax = plt.subplot(gs[grd[0], grd[1]])\n",
    "    fig = plot_decision_regions(X=X, y=y, clf=clf, legend=2)\n",
    "    plt.title(lab)\n",
    "plt.show()"
   ]
  },
  {
   "cell_type": "code",
   "execution_count": null,
   "metadata": {},
   "outputs": [],
   "source": []
  }
 ],
 "metadata": {
  "kernelspec": {
   "display_name": "Python 3",
   "language": "python",
   "name": "python3"
  },
  "language_info": {
   "codemirror_mode": {
    "name": "ipython",
    "version": 3
   },
   "file_extension": ".py",
   "mimetype": "text/x-python",
   "name": "python",
   "nbconvert_exporter": "python",
   "pygments_lexer": "ipython3",
   "version": "3.7.0"
  }
 },
 "nbformat": 4,
 "nbformat_minor": 2
}
